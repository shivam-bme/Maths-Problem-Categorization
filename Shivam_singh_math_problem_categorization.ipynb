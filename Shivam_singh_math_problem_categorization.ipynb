{
 "cells": [
  {
   "cell_type": "markdown",
   "id": "33205b4f",
   "metadata": {},
   "source": [
    "#  <center>---------Math Problem Categorization community challenge--------</center>\n"
   ]
  },
  {
   "cell_type": "markdown",
   "id": "5bc41d4c",
   "metadata": {},
   "source": [
    "<div style=\"text-width:100%;text-align:center;\"><img align=middle src=\"https://encrypted-tbn0.gstatic.com/images?q=tbn:ANd9GcRXJBmRtkQzaYNgn6L9SzUa6g6PdbVx8SEq4ZVJ08yuZg&usqp=CAU&ec=48665698\" alt=\"Heat beating\" style=\"height:300px;margin-top:3rem;\"> </div>"
   ]
  },
  {
   "cell_type": "markdown",
   "id": "8716ce58",
   "metadata": {},
   "source": [
    "**about** :The goal of this competition is to develop a machine-learning model that can accurately categorize math problems based on the text of the problem. This challenge is an excellent opportunity to apply and sharpen your text classification skills in a unique context, that of Mathematical problems.\n",
    "\n",
    "Mathematics is a vast field with various sub-domains, each with its unique problem types and solving methods. While it's straightforward for humans, especially educators, to categorize math problems into their respective domains like algebra, calculus, statistics, etc., doing so automatically using machine learning can be a daunting task. However, such automated classification can make it easier for educators to curate problems and help students focus on specific math domains.\n"
   ]
  },
  {
   "cell_type": "markdown",
   "id": "dada71b3",
   "metadata": {},
   "source": [
    "**Dataset**:\n",
    "\n",
    "The dataset for this competition contains a collection of math problems in English, each labeled with their respective categories. The dataset has been anonymized and randomized to maintain the fairness of the competition. It is split into training and test sets. The training set contains the problems and their labels, while the test set only contains the problems.\n",
    "\n",
    "Content of Dataset\n",
    "\n",
    "the following files present in the dataset\n",
    "\n",
    " *  train.csv - the training set\n",
    " *  test.csv - the test set\n",
    " *  sample_submission.csv - a sample submission file in the correct format\n",
    "\n"
   ]
  },
  {
   "cell_type": "markdown",
   "id": "7fa8f495",
   "metadata": {},
   "source": [
    "# <center>---------------Importing libraries--------------</center>"
   ]
  },
  {
   "cell_type": "code",
   "execution_count": 1,
   "id": "f3fbf666",
   "metadata": {},
   "outputs": [
    {
     "name": "stderr",
     "output_type": "stream",
     "text": [
      "2023-06-22 17:05:12.505869: I tensorflow/core/platform/cpu_feature_guard.cc:193] This TensorFlow binary is optimized with oneAPI Deep Neural Network Library (oneDNN) to use the following CPU instructions in performance-critical operations:  AVX2 FMA\n",
      "To enable them in other operations, rebuild TensorFlow with the appropriate compiler flags.\n",
      "2023-06-22 17:05:12.961955: W tensorflow/compiler/xla/stream_executor/platform/default/dso_loader.cc:64] Could not load dynamic library 'libcudart.so.11.0'; dlerror: libcudart.so.11.0: cannot open shared object file: No such file or directory\n",
      "2023-06-22 17:05:12.961976: I tensorflow/compiler/xla/stream_executor/cuda/cudart_stub.cc:29] Ignore above cudart dlerror if you do not have a GPU set up on your machine.\n",
      "2023-06-22 17:05:14.245548: W tensorflow/compiler/xla/stream_executor/platform/default/dso_loader.cc:64] Could not load dynamic library 'libnvinfer.so.7'; dlerror: libnvinfer.so.7: cannot open shared object file: No such file or directory\n",
      "2023-06-22 17:05:14.245661: W tensorflow/compiler/xla/stream_executor/platform/default/dso_loader.cc:64] Could not load dynamic library 'libnvinfer_plugin.so.7'; dlerror: libnvinfer_plugin.so.7: cannot open shared object file: No such file or directory\n",
      "2023-06-22 17:05:14.245668: W tensorflow/compiler/tf2tensorrt/utils/py_utils.cc:38] TF-TRT Warning: Cannot dlopen some TensorRT libraries. If you would like to use Nvidia GPU with TensorRT, please make sure the missing libraries mentioned above are installed properly.\n"
     ]
    }
   ],
   "source": [
    "import pandas as pd\n",
    "import numpy as np\n",
    "import os \n",
    "import warnings\n",
    "from sklearn.utils import class_weight\n",
    "import matplotlib.pyplot as plt\n",
    "warnings.filterwarnings('ignore')\n",
    "from imblearn.over_sampling import SMOTE\n",
    "\n",
    "import string\n",
    "import nltk\n",
    "import re\n",
    "from nltk.corpus import stopwords\n",
    "from nltk.stem import WordNetLemmatizer\n",
    "from sklearn.model_selection import train_test_split\n",
    "from sklearn.feature_extraction.text import CountVectorizer\n",
    "from sklearn.feature_extraction.text import TfidfVectorizer\n",
    "\n",
    "from sklearn.svm import SVC\n",
    "from sklearn.metrics import accuracy_score\n",
    "import tensorflow\n",
    "\n",
    "from keras.models import Sequential\n",
    "from keras.layers import Embedding, LSTM, Dense"
   ]
  },
  {
   "cell_type": "markdown",
   "id": "a68bed53",
   "metadata": {},
   "source": [
    "# **<center>------------Importing Files of Dataset------------</center>**"
   ]
  },
  {
   "cell_type": "code",
   "execution_count": 2,
   "id": "59a1e51c",
   "metadata": {},
   "outputs": [
    {
     "name": "stdout",
     "output_type": "stream",
     "text": [
      "/home/shivam_singh/Downloads/math-problem-categorization/test.csv\n",
      "/home/shivam_singh/Downloads/math-problem-categorization/sample_submission.csv\n",
      "/home/shivam_singh/Downloads/math-problem-categorization/train.csv\n"
     ]
    }
   ],
   "source": [
    "# Input data files are available in the read-only \"../Shivam_Singh/Downloads/\" directory\n",
    "\n",
    "for dirname, _, filenames in os.walk('/home/shivam_singh/Downloads/math-problem-categorization'):\n",
    "    for filename in filenames:\n",
    "        print(os.path.join(dirname, filename))\n"
   ]
  },
  {
   "cell_type": "code",
   "execution_count": 3,
   "id": "d14ab228",
   "metadata": {},
   "outputs": [],
   "source": [
    "df=pd.read_csv('//home/shivam_singh/Downloads/math-problem-categorization/train.csv') # reading train.csv file"
   ]
  },
  {
   "cell_type": "markdown",
   "id": "ef42b3b4",
   "metadata": {},
   "source": [
    "# **<center>--------------Data Preprocessing----------------</center>**"
   ]
  },
  {
   "cell_type": "code",
   "execution_count": 4,
   "id": "bf05fbfa",
   "metadata": {},
   "outputs": [
    {
     "name": "stdout",
     "output_type": "stream",
     "text": [
      "<class 'pandas.core.frame.DataFrame'>\n",
      "RangeIndex: 250 entries, 0 to 249\n",
      "Data columns (total 2 columns):\n",
      " #   Column    Non-Null Count  Dtype \n",
      "---  ------    --------------  ----- \n",
      " 0   problem   250 non-null    object\n",
      " 1   category  250 non-null    int64 \n",
      "dtypes: int64(1), object(1)\n",
      "memory usage: 4.0+ KB\n"
     ]
    },
    {
     "data": {
      "text/plain": [
       "(250, 2)"
      ]
     },
     "execution_count": 4,
     "metadata": {},
     "output_type": "execute_result"
    }
   ],
   "source": [
    "df.info()\n",
    "df.shape"
   ]
  },
  {
   "cell_type": "markdown",
   "id": "ff1b93a9",
   "metadata": {},
   "source": [
    "**interpret**: shape of the dataframe is (250,2) Hence it consist 250 rows and 2 column [category,problem]\n",
    "* problem feature: It consist of text data which are questions related to such as alegbra and system of equation  etc.\n",
    "* category feature: It consist of numeric categorical labeling for  each problem feature where it belongs to which domain of alegbra \n"
   ]
  },
  {
   "cell_type": "code",
   "execution_count": 5,
   "id": "7fd40281",
   "metadata": {},
   "outputs": [
    {
     "data": {
      "text/html": [
       "<div>\n",
       "<style scoped>\n",
       "    .dataframe tbody tr th:only-of-type {\n",
       "        vertical-align: middle;\n",
       "    }\n",
       "\n",
       "    .dataframe tbody tr th {\n",
       "        vertical-align: top;\n",
       "    }\n",
       "\n",
       "    .dataframe thead th {\n",
       "        text-align: right;\n",
       "    }\n",
       "</style>\n",
       "<table border=\"1\" class=\"dataframe\">\n",
       "  <thead>\n",
       "    <tr style=\"text-align: right;\">\n",
       "      <th></th>\n",
       "      <th>problem</th>\n",
       "      <th>category</th>\n",
       "    </tr>\n",
       "  </thead>\n",
       "  <tbody>\n",
       "    <tr>\n",
       "      <th>0</th>\n",
       "      <td>At a ring toss game at a carnival, Marco throw...</td>\n",
       "      <td>19</td>\n",
       "    </tr>\n",
       "    <tr>\n",
       "      <th>1</th>\n",
       "      <td>What is `471 ÷ 100`? Interactive: Students fol...</td>\n",
       "      <td>22</td>\n",
       "    </tr>\n",
       "    <tr>\n",
       "      <th>2</th>\n",
       "      <td>Follow the directions below to create an equiv...</td>\n",
       "      <td>20</td>\n",
       "    </tr>\n",
       "    <tr>\n",
       "      <th>3</th>\n",
       "      <td>Solve the following system by substitution:\\n`...</td>\n",
       "      <td>14</td>\n",
       "    </tr>\n",
       "    <tr>\n",
       "      <th>4</th>\n",
       "      <td>Solve the following system by substitution:\\n`...</td>\n",
       "      <td>14</td>\n",
       "    </tr>\n",
       "  </tbody>\n",
       "</table>\n",
       "</div>"
      ],
      "text/plain": [
       "                                             problem  category\n",
       "0  At a ring toss game at a carnival, Marco throw...        19\n",
       "1  What is `471 ÷ 100`? Interactive: Students fol...        22\n",
       "2  Follow the directions below to create an equiv...        20\n",
       "3  Solve the following system by substitution:\\n`...        14\n",
       "4  Solve the following system by substitution:\\n`...        14"
      ]
     },
     "execution_count": 5,
     "metadata": {},
     "output_type": "execute_result"
    }
   ],
   "source": [
    "df.head()# first 5 enteries"
   ]
  },
  {
   "cell_type": "code",
   "execution_count": 6,
   "id": "52310928",
   "metadata": {},
   "outputs": [
    {
     "data": {
      "text/html": [
       "<div>\n",
       "<style scoped>\n",
       "    .dataframe tbody tr th:only-of-type {\n",
       "        vertical-align: middle;\n",
       "    }\n",
       "\n",
       "    .dataframe tbody tr th {\n",
       "        vertical-align: top;\n",
       "    }\n",
       "\n",
       "    .dataframe thead th {\n",
       "        text-align: right;\n",
       "    }\n",
       "</style>\n",
       "<table border=\"1\" class=\"dataframe\">\n",
       "  <thead>\n",
       "    <tr style=\"text-align: right;\">\n",
       "      <th></th>\n",
       "      <th>problem</th>\n",
       "      <th>category</th>\n",
       "    </tr>\n",
       "  </thead>\n",
       "  <tbody>\n",
       "    <tr>\n",
       "      <th>190</th>\n",
       "      <td>Estimate the product:\\n`4.3 × 6.1`</td>\n",
       "      <td>23</td>\n",
       "    </tr>\n",
       "    <tr>\n",
       "      <th>124</th>\n",
       "      <td>Write an expression to match the phrase:\"`2` a...</td>\n",
       "      <td>1</td>\n",
       "    </tr>\n",
       "    <tr>\n",
       "      <th>34</th>\n",
       "      <td>Estimate the product:\\n`6.9 × 5.2`</td>\n",
       "      <td>23</td>\n",
       "    </tr>\n",
       "    <tr>\n",
       "      <th>13</th>\n",
       "      <td>In her piggy bank, Brigitta has `6` nickels an...</td>\n",
       "      <td>8</td>\n",
       "    </tr>\n",
       "  </tbody>\n",
       "</table>\n",
       "</div>"
      ],
      "text/plain": [
       "                                               problem  category\n",
       "190                 Estimate the product:\\n`4.3 × 6.1`        23\n",
       "124  Write an expression to match the phrase:\"`2` a...         1\n",
       "34                  Estimate the product:\\n`6.9 × 5.2`        23\n",
       "13   In her piggy bank, Brigitta has `6` nickels an...         8"
      ]
     },
     "execution_count": 6,
     "metadata": {},
     "output_type": "execute_result"
    }
   ],
   "source": [
    "df.sample(4) # random 4 samples from file"
   ]
  },
  {
   "cell_type": "markdown",
   "id": "f1da28ca",
   "metadata": {},
   "source": [
    "**Data Cleaning**:In this step we try to handle missing values, outliers, and inconsistencies in the dataset. Missing values can be imputed or removed based on the analysis of the dataset"
   ]
  },
  {
   "cell_type": "code",
   "execution_count": 7,
   "id": "26f5d864",
   "metadata": {},
   "outputs": [
    {
     "data": {
      "text/plain": [
       "problem     0\n",
       "category    0\n",
       "dtype: int64"
      ]
     },
     "execution_count": 7,
     "metadata": {},
     "output_type": "execute_result"
    }
   ],
   "source": [
    "df.isnull().sum()"
   ]
  },
  {
   "cell_type": "markdown",
   "id": "32429c25",
   "metadata": {},
   "source": [
    "**interpret**: train file doesn't contain any missing values."
   ]
  },
  {
   "cell_type": "code",
   "execution_count": 8,
   "id": "0e4f0861",
   "metadata": {},
   "outputs": [
    {
     "data": {
      "text/html": [
       "<div>\n",
       "<style scoped>\n",
       "    .dataframe tbody tr th:only-of-type {\n",
       "        vertical-align: middle;\n",
       "    }\n",
       "\n",
       "    .dataframe tbody tr th {\n",
       "        vertical-align: top;\n",
       "    }\n",
       "\n",
       "    .dataframe thead th {\n",
       "        text-align: right;\n",
       "    }\n",
       "</style>\n",
       "<table border=\"1\" class=\"dataframe\">\n",
       "  <thead>\n",
       "    <tr style=\"text-align: right;\">\n",
       "      <th></th>\n",
       "      <th>category</th>\n",
       "    </tr>\n",
       "  </thead>\n",
       "  <tbody>\n",
       "    <tr>\n",
       "      <th>count</th>\n",
       "      <td>250.000000</td>\n",
       "    </tr>\n",
       "    <tr>\n",
       "      <th>mean</th>\n",
       "      <td>11.620000</td>\n",
       "    </tr>\n",
       "    <tr>\n",
       "      <th>std</th>\n",
       "      <td>7.158812</td>\n",
       "    </tr>\n",
       "    <tr>\n",
       "      <th>min</th>\n",
       "      <td>0.000000</td>\n",
       "    </tr>\n",
       "    <tr>\n",
       "      <th>25%</th>\n",
       "      <td>6.000000</td>\n",
       "    </tr>\n",
       "    <tr>\n",
       "      <th>50%</th>\n",
       "      <td>11.000000</td>\n",
       "    </tr>\n",
       "    <tr>\n",
       "      <th>75%</th>\n",
       "      <td>17.750000</td>\n",
       "    </tr>\n",
       "    <tr>\n",
       "      <th>max</th>\n",
       "      <td>24.000000</td>\n",
       "    </tr>\n",
       "  </tbody>\n",
       "</table>\n",
       "</div>"
      ],
      "text/plain": [
       "         category\n",
       "count  250.000000\n",
       "mean    11.620000\n",
       "std      7.158812\n",
       "min      0.000000\n",
       "25%      6.000000\n",
       "50%     11.000000\n",
       "75%     17.750000\n",
       "max     24.000000"
      ]
     },
     "execution_count": 8,
     "metadata": {},
     "output_type": "execute_result"
    }
   ],
   "source": [
    "df.describe()"
   ]
  },
  {
   "cell_type": "markdown",
   "id": "12443c4c",
   "metadata": {},
   "source": [
    "**Interpret**: Total counts in category label are 250\n",
    "* minimum value present 0\n",
    "* maxium value present 24\n",
    "* mean value is 11.62"
   ]
  },
  {
   "cell_type": "code",
   "execution_count": 9,
   "id": "cfef0c21",
   "metadata": {},
   "outputs": [
    {
     "data": {
      "text/plain": [
       "7     19\n",
       "16    11\n",
       "0     10\n",
       "22    10\n",
       "4     10\n",
       "11    10\n",
       "3     10\n",
       "2     10\n",
       "6     10\n",
       "12    10\n",
       "5     10\n",
       "13    10\n",
       "9     10\n",
       "15    10\n",
       "1     10\n",
       "23    10\n",
       "8     10\n",
       "24    10\n",
       "14    10\n",
       "17     9\n",
       "19     9\n",
       "18     8\n",
       "10     8\n",
       "20     8\n",
       "21     8\n",
       "Name: category, dtype: int64"
      ]
     },
     "execution_count": 9,
     "metadata": {},
     "output_type": "execute_result"
    }
   ],
   "source": [
    "df['category'].value_counts()"
   ]
  },
  {
   "cell_type": "code",
   "execution_count": 10,
   "id": "2896a9ba",
   "metadata": {},
   "outputs": [
    {
     "data": {
      "text/plain": [
       "At a ring toss game at a carnival, Marco throws `8` rings. Some of the rings are worth `5` points, and some are worth `10` points. Marco scores a total of `70` points. How many `5`-point rings and `10`-point rings did Marco toss?                                                                                                                                                                                                           1\n",
       "Write an algebraic expression to match the phrase below.\\n\"`8` multiplied by `5` less than `y`\"                                                                                                                                                                                                                                                                                                                                                 1\n",
       "Solve the following system by substitution:\\n`y = 9x - 12`\\n`y = 3x`                                                                                                                                                                                                                                                                                                                                                                            1\n",
       "Write an expression to match the phrase:\\n''Multiply `b` by `4`, then increase by `3`''                                                                                                                                                                                                                                                                                                                                                         1\n",
       "Solve the system of equations:\\n`5x + 3y = -16`\\n`-10x - 3y = 11`                                                                                                                                                                                                                                                                                                                                                                               1\n",
       "                                                                                                                                                                                                                                                                                                                                                                                                                                               ..\n",
       "At an art show, `5/12` of the pieces are paintings. Of these paintings, `1/3` were done by 6th graders. What fraction of the art pieces were painted by the 6th graders?                                                                                                                                                                                                                                                                        1\n",
       "All of the `8`th graders are taking an end-of-year field trip. So far, there are `248` students who have turned in their permissions slips. There are `s` students who have not turned in their permission slips. \\nHow many `8`th grade students are there? Write this as an expression using `248` and `s`.\\nUsing your expression, how many 8th grade students are there if `112` students who have not turned in their permission slips?    1\n",
       "Determine the number of solutions for the following system of equations:\\n`y = -5x - 3`\\n`y = -5x + 3`\\nNumber of solutions\\nNo solution\\nExactly one solution\\nInfinitely many solutions                                                                                                                                                                                                                                                       1\n",
       "Write an expression to match the phrase:\"one-half of `n` is decreased by `7`\"                                                                                                                                                                                                                                                                                                                                                                   1\n",
       "The first time Sue made enchiladas, she used `2/3` teaspoon of chili flakes. The second time she made the enchiladas, she used `3` times as many chili flakes to make them hotter. How many teaspoons of chili flakes did Sue use in the hotter enchiladas?                                                                                                                                                                                     1\n",
       "Name: problem, Length: 250, dtype: int64"
      ]
     },
     "execution_count": 10,
     "metadata": {},
     "output_type": "execute_result"
    }
   ],
   "source": [
    "df['problem'].value_counts()"
   ]
  },
  {
   "cell_type": "code",
   "execution_count": 11,
   "id": "4b7b19af",
   "metadata": {},
   "outputs": [
    {
     "data": {
      "text/plain": [
       "False    250\n",
       "Name: problem, dtype: int64"
      ]
     },
     "execution_count": 11,
     "metadata": {},
     "output_type": "execute_result"
    }
   ],
   "source": [
    "df['problem'].duplicated().value_counts()"
   ]
  },
  {
   "cell_type": "code",
   "execution_count": 12,
   "id": "c2e6d0d6",
   "metadata": {},
   "outputs": [
    {
     "data": {
      "text/plain": [
       "250"
      ]
     },
     "execution_count": 12,
     "metadata": {},
     "output_type": "execute_result"
    }
   ],
   "source": [
    "df['problem'].nunique()"
   ]
  },
  {
   "cell_type": "markdown",
   "id": "aa935d74",
   "metadata": {},
   "source": [
    "**Interpret**: There is no duplicates among problem feature"
   ]
  },
  {
   "cell_type": "code",
   "execution_count": 13,
   "id": "6b3cf9ea",
   "metadata": {},
   "outputs": [
    {
     "data": {
      "text/plain": [
       "Int64Index([ 7, 16,  0, 22,  4, 11,  3,  2,  6, 12,  5, 13,  9, 15,  1, 23,  8,\n",
       "            24, 14, 17, 19, 18, 10, 20, 21],\n",
       "           dtype='int64')"
      ]
     },
     "execution_count": 13,
     "metadata": {},
     "output_type": "execute_result"
    }
   ],
   "source": [
    "df['category'].value_counts().index"
   ]
  },
  {
   "cell_type": "code",
   "execution_count": 14,
   "id": "b4cf79eb",
   "metadata": {},
   "outputs": [
    {
     "data": {
      "text/plain": [
       "<Figure size 2000x1200 with 0 Axes>"
      ]
     },
     "execution_count": 14,
     "metadata": {},
     "output_type": "execute_result"
    },
    {
     "data": {
      "image/png": "[encoded data removed]",
      "text/plain": [
       "<Figure size 640x480 with 1 Axes>"
      ]
     },
     "metadata": {},
     "output_type": "display_data"
    },
    {
     "data": {
      "text/plain": [
       "<Figure size 2000x1200 with 0 Axes>"
      ]
     },
     "metadata": {},
     "output_type": "display_data"
    }
   ],
   "source": [
    "plt.bar(df['category'].value_counts().index,df['category'].value_counts(),bottom=1.5,tick_label=df['category'].value_counts().index)\n",
    "plt.figure(figsize=(20,12))"
   ]
  },
  {
   "cell_type": "markdown",
   "id": "5ad99ccd",
   "metadata": {},
   "source": [
    "**Data balancing**: our dataset is balanced with goood parameter"
   ]
  },
  {
   "cell_type": "code",
   "execution_count": 15,
   "id": "c0c1c384",
   "metadata": {},
   "outputs": [
    {
     "data": {
      "text/html": [
       "<div>\n",
       "<style scoped>\n",
       "    .dataframe tbody tr th:only-of-type {\n",
       "        vertical-align: middle;\n",
       "    }\n",
       "\n",
       "    .dataframe tbody tr th {\n",
       "        vertical-align: top;\n",
       "    }\n",
       "\n",
       "    .dataframe thead th {\n",
       "        text-align: right;\n",
       "    }\n",
       "</style>\n",
       "<table border=\"1\" class=\"dataframe\">\n",
       "  <thead>\n",
       "    <tr style=\"text-align: right;\">\n",
       "      <th></th>\n",
       "      <th>problem</th>\n",
       "      <th>category</th>\n",
       "    </tr>\n",
       "  </thead>\n",
       "  <tbody>\n",
       "    <tr>\n",
       "      <th>31</th>\n",
       "      <td>A housepainter bought `16` gallons of paint. T...</td>\n",
       "      <td>7</td>\n",
       "    </tr>\n",
       "    <tr>\n",
       "      <th>41</th>\n",
       "      <td>The temperature in Springfield was `58` degree...</td>\n",
       "      <td>7</td>\n",
       "    </tr>\n",
       "    <tr>\n",
       "      <th>53</th>\n",
       "      <td>Follow the directions below to create an equiv...</td>\n",
       "      <td>7</td>\n",
       "    </tr>\n",
       "    <tr>\n",
       "      <th>73</th>\n",
       "      <td>Kendra watched `e` episodes of anime over the ...</td>\n",
       "      <td>7</td>\n",
       "    </tr>\n",
       "    <tr>\n",
       "      <th>81</th>\n",
       "      <td>Franco went for a long run on Sunday that was ...</td>\n",
       "      <td>7</td>\n",
       "    </tr>\n",
       "    <tr>\n",
       "      <th>89</th>\n",
       "      <td>All of the `8`th graders are taking an end-of-...</td>\n",
       "      <td>7</td>\n",
       "    </tr>\n",
       "    <tr>\n",
       "      <th>93</th>\n",
       "      <td>The Gonzalez family drove `h` hours to get to ...</td>\n",
       "      <td>7</td>\n",
       "    </tr>\n",
       "    <tr>\n",
       "      <th>127</th>\n",
       "      <td>Follow the directions below to create an equiv...</td>\n",
       "      <td>7</td>\n",
       "    </tr>\n",
       "    <tr>\n",
       "      <th>140</th>\n",
       "      <td>Salma has previously visited `s` states. She v...</td>\n",
       "      <td>7</td>\n",
       "    </tr>\n",
       "    <tr>\n",
       "      <th>185</th>\n",
       "      <td>Franklin Middle School is having a canned food...</td>\n",
       "      <td>7</td>\n",
       "    </tr>\n",
       "    <tr>\n",
       "      <th>188</th>\n",
       "      <td>There were `34` people waiting in line for a n...</td>\n",
       "      <td>7</td>\n",
       "    </tr>\n",
       "    <tr>\n",
       "      <th>191</th>\n",
       "      <td>Sally had `p` dollars, then she spent `$10` to...</td>\n",
       "      <td>7</td>\n",
       "    </tr>\n",
       "    <tr>\n",
       "      <th>200</th>\n",
       "      <td>Phoebe has `$200` in a savings account and add...</td>\n",
       "      <td>7</td>\n",
       "    </tr>\n",
       "    <tr>\n",
       "      <th>206</th>\n",
       "      <td>Kerry's basketball team scored `47` points dur...</td>\n",
       "      <td>7</td>\n",
       "    </tr>\n",
       "    <tr>\n",
       "      <th>220</th>\n",
       "      <td>The snack shack on the beach sells burgers for...</td>\n",
       "      <td>7</td>\n",
       "    </tr>\n",
       "    <tr>\n",
       "      <th>229</th>\n",
       "      <td>The theater for the newest drama club play is ...</td>\n",
       "      <td>7</td>\n",
       "    </tr>\n",
       "    <tr>\n",
       "      <th>232</th>\n",
       "      <td>Nia practices her violin for `m` minutes every...</td>\n",
       "      <td>7</td>\n",
       "    </tr>\n",
       "    <tr>\n",
       "      <th>239</th>\n",
       "      <td>Asa scored `g` goals in her soccer season last...</td>\n",
       "      <td>7</td>\n",
       "    </tr>\n",
       "    <tr>\n",
       "      <th>249</th>\n",
       "      <td>The first time Sue made enchiladas, she used `...</td>\n",
       "      <td>7</td>\n",
       "    </tr>\n",
       "  </tbody>\n",
       "</table>\n",
       "</div>"
      ],
      "text/plain": [
       "                                               problem  category\n",
       "31   A housepainter bought `16` gallons of paint. T...         7\n",
       "41   The temperature in Springfield was `58` degree...         7\n",
       "53   Follow the directions below to create an equiv...         7\n",
       "73   Kendra watched `e` episodes of anime over the ...         7\n",
       "81   Franco went for a long run on Sunday that was ...         7\n",
       "89   All of the `8`th graders are taking an end-of-...         7\n",
       "93   The Gonzalez family drove `h` hours to get to ...         7\n",
       "127  Follow the directions below to create an equiv...         7\n",
       "140  Salma has previously visited `s` states. She v...         7\n",
       "185  Franklin Middle School is having a canned food...         7\n",
       "188  There were `34` people waiting in line for a n...         7\n",
       "191  Sally had `p` dollars, then she spent `$10` to...         7\n",
       "200  Phoebe has `$200` in a savings account and add...         7\n",
       "206  Kerry's basketball team scored `47` points dur...         7\n",
       "220  The snack shack on the beach sells burgers for...         7\n",
       "229  The theater for the newest drama club play is ...         7\n",
       "232  Nia practices her violin for `m` minutes every...         7\n",
       "239  Asa scored `g` goals in her soccer season last...         7\n",
       "249  The first time Sue made enchiladas, she used `...         7"
      ]
     },
     "execution_count": 15,
     "metadata": {},
     "output_type": "execute_result"
    }
   ],
   "source": [
    "df[df['category']==7]"
   ]
  },
  {
   "cell_type": "markdown",
   "id": "c5f20a29",
   "metadata": {},
   "source": [
    "# **<center>------------------Text Data Preprocessing-------------------</center>**\n",
    "This is most important step  in any NLP related task and steps involved are\n",
    "* Using regular expression for removing the numbers.\n",
    "* Lowering the case for all alphabets present in problem feature\n",
    "* Tokenise the words present in each problem using NLTK\n",
    "* Using list of words  customising it with adding '$'and removing these words from every tokenise words because they are lot of much"
   ]
  },
  {
   "cell_type": "code",
   "execution_count": 58,
   "id": "7bc71447",
   "metadata": {},
   "outputs": [],
   "source": [
    "def text_preprocessing(text):\n",
    "    #removing punctuations\n",
    "    text=text.translate(str.maketrans('','',string.punctuation))\n",
    "    \n",
    "    #lower the case\n",
    "    text=text.lower()\n",
    "    \n",
    "    #remove numbers\n",
    "    text=re.sub('\\d+','',text)\n",
    "    #pattern='[^a-zA-z\\s]'\n",
    "    #sent =re.sub(pattern,'',text)\n",
    "    \n",
    "    #remove stopwords and '$' \n",
    "   # nltk.download('stopwords')\n",
    "    \"\"\"\n",
    "    from nltk.corpus import stopwords\n",
    "    stop_word_list=set(stopwords.words('english')+['$'])\n",
    "    #tokenisation\n",
    "    words=nltk.word_tokenize(text)\n",
    "    #sents=nltk.word_tokenize(sent)\n",
    "    words=[word for word in words if word not in stop_word_list]\n",
    "    \"\"\"\n",
    "    #Lemmatize words\n",
    "    \"\"\"\n",
    "    lemmatizer = WordNetLemmatizer()\n",
    "    words_cleard = [lemmatizer.lemmatize(word) for word in sents if word not in stop_word_list]\"\"\"\n",
    "    \n",
    "    # join text\n",
    "    #text=' '.join(words)\n",
    "    \n",
    "    return text"
   ]
  },
  {
   "cell_type": "code",
   "execution_count": 21,
   "id": "dc250dae",
   "metadata": {},
   "outputs": [],
   "source": [
    "dff=df"
   ]
  },
  {
   "cell_type": "code",
   "execution_count": 1,
   "id": "f53f8778",
   "metadata": {},
   "outputs": [],
   "source": [
    "#nltk.download('punkt')\n",
    "#nltk.download('stopwords')"
   ]
  },
  {
   "cell_type": "markdown",
   "id": "edd6f265",
   "metadata": {},
   "source": [
    "I tried with nltk.download('stopword') or different methods to install stopwords but it seems there is error , this code is working fine in kaggle notebook but maybe or maybe not it will not displaying full context of code \n",
    "( i know this might be seems as limitation mine but trust i will later try to fix thi os issue)"
   ]
  },
  {
   "cell_type": "code",
   "execution_count": 56,
   "id": "f118c308",
   "metadata": {},
   "outputs": [
    {
     "name": "stderr",
     "output_type": "stream",
     "text": [
      "[nltk_data] Error loading stopwords: <urlopen error [Errno 110]\n",
      "[nltk_data]     Connection timed out>\n"
     ]
    },
    {
     "data": {
      "text/plain": [
       "False"
      ]
     },
     "execution_count": 56,
     "metadata": {},
     "output_type": "execute_result"
    }
   ],
   "source": [
    "'''import nltk\n",
    "import ssl\n",
    "\n",
    "try:\n",
    "    _create_unverified_https_context = ssl._create_unverified_context\n",
    "except AttributeError:\n",
    "    pass\n",
    "else:\n",
    "    ssl._create_default_https_context = _create_unverified_https_context\n",
    "\n",
    "nltk.download('stopwords')\n",
    "'''"
   ]
  },
  {
   "cell_type": "code",
   "execution_count": null,
   "id": "be2f600d",
   "metadata": {},
   "outputs": [],
   "source": [
    "#nltk.download('stopwords')"
   ]
  },
  {
   "cell_type": "code",
   "execution_count": 28,
   "id": "f9cdcd58",
   "metadata": {},
   "outputs": [
    {
     "name": "stdout",
     "output_type": "stream",
     "text": [
      "/home/shivam_singh/anaconda3/lib/python3.9/runpy.py:127: RuntimeWarning: 'nltk.downloader' found in sys.modules after import of package 'nltk', but prior to execution of 'nltk.downloader'; this may result in unpredictable behaviour\r\n",
      "  warn(RuntimeWarning(msg))\r\n",
      "Usage: downloader.py [options]\r\n",
      "\r\n",
      "downloader.py: error: no such option: -y\r\n"
     ]
    }
   ],
   "source": [
    "#!python -m nltk.downloader stopwords -yes"
   ]
  },
  {
   "cell_type": "code",
   "execution_count": 59,
   "id": "5cb96c42",
   "metadata": {
    "scrolled": false
   },
   "outputs": [],
   "source": [
    "dff['problem']=dff['problem'].apply(text_preprocessing)"
   ]
  },
  {
   "cell_type": "markdown",
   "id": "bf10b677",
   "metadata": {},
   "source": [
    "**In this step , we split data in train and test with stratified sampling approach to divide data in small group as per category feature**\n"
   ]
  },
  {
   "cell_type": "code",
   "execution_count": 60,
   "id": "cd529dce",
   "metadata": {},
   "outputs": [],
   "source": [
    "X_train, X_test, y_train, y_test = train_test_split(dff['problem'], dff['category'], test_size=0.298,stratify=dff['category'], random_state=42)"
   ]
  },
  {
   "cell_type": "code",
   "execution_count": 61,
   "id": "e348cc1b",
   "metadata": {},
   "outputs": [
    {
     "name": "stdout",
     "output_type": "stream",
     "text": [
      "length of train data 175 , length of test data 75\n",
      "175 (175,)\n",
      "75 (75,)\n"
     ]
    }
   ],
   "source": [
    "print(\"length of train data\",len(X_train),\",\"\n",
    "      ,\"length of test data\",len(X_test))\n",
    "\n",
    "print(len(y_train),y_train.shape)\n",
    "print(len(y_test),y_test.shape)"
   ]
  },
  {
   "cell_type": "markdown",
   "id": "40baee6c",
   "metadata": {},
   "source": [
    "#  **This is the most important step in text data preprocessing**\n",
    "computer do not understand text data so we need to represent text data in form of numbers so that computer can make use of them\n",
    "* we use two techniques bag of words and TFIDF(Term Frequency Inverse Document frequency)\n"
   ]
  },
  {
   "cell_type": "code",
   "execution_count": 62,
   "id": "e52cd407",
   "metadata": {},
   "outputs": [],
   "source": [
    "# join train data as list of text\n",
    "text_corpus=list(''.join(word) for word in X_train)"
   ]
  },
  {
   "cell_type": "code",
   "execution_count": 63,
   "id": "8f0c94b9",
   "metadata": {},
   "outputs": [],
   "source": [
    "# join test data as list of words\n",
    "test_text_corpus=list(''.join(word) for word in X_test)"
   ]
  },
  {
   "cell_type": "markdown",
   "id": "5cd1844b",
   "metadata": {},
   "source": [
    "**Bag of Words**\n",
    "\n",
    "x_train_bag and y_train are dataset contain information which will be used in model building "
   ]
  },
  {
   "cell_type": "code",
   "execution_count": 64,
   "id": "982b2b50",
   "metadata": {},
   "outputs": [],
   "source": [
    "cv=CountVectorizer()\n",
    "x_train_bag=cv.fit_transform(text_corpus)"
   ]
  },
  {
   "cell_type": "markdown",
   "id": "366bce9d",
   "metadata": {},
   "source": [
    "**TFIDF**\n",
    "* x_train_vactorised and y_train are dataset contain information which will be used in model building"
   ]
  },
  {
   "cell_type": "code",
   "execution_count": 65,
   "id": "d60eb395",
   "metadata": {},
   "outputs": [],
   "source": [
    "c=TfidfVectorizer()\n",
    "f=X_train_vactorised=c.fit_transform(text_corpus)"
   ]
  },
  {
   "cell_type": "code",
   "execution_count": 66,
   "id": "6dc0e0bd",
   "metadata": {},
   "outputs": [
    {
     "data": {
      "text/plain": [
       "(175, 635)"
      ]
     },
     "execution_count": 66,
     "metadata": {},
     "output_type": "execute_result"
    }
   ],
   "source": [
    "f.shape"
   ]
  },
  {
   "cell_type": "code",
   "execution_count": 67,
   "id": "ec51d9f2",
   "metadata": {},
   "outputs": [
    {
     "name": "stdout",
     "output_type": "stream",
     "text": [
      "(75, 635)\n"
     ]
    }
   ],
   "source": [
    "v=X_test_vactorised=c.transform(test_text_corpus)\n",
    "print(v.shape)"
   ]
  },
  {
   "cell_type": "markdown",
   "id": "31a30a87",
   "metadata": {},
   "source": [
    " # **<center>------------Text Data Preprocessing Ends here------------------</center>**"
   ]
  },
  {
   "cell_type": "markdown",
   "id": "9beed087",
   "metadata": {},
   "source": [
    "# Model Building ,Training,Testing and Tunning \n",
    "* I used GridSearch for hyperparamter tunning and K-fold cross validation for accurate results both implemented with Sciki-Learn's\n",
    "  GridSearch.\n",
    "* Built SVM, RandomForest, decision Tree, xgboost multi categorical classification models \n"
   ]
  },
  {
   "cell_type": "markdown",
   "id": "ea325430",
   "metadata": {},
   "source": [
    "# SVM classifier using Data Augmentation with SMOTE"
   ]
  },
  {
   "cell_type": "code",
   "execution_count": 68,
   "id": "fbf8e5ce",
   "metadata": {},
   "outputs": [
    {
     "name": "stderr",
     "output_type": "stream",
     "text": [
      "Exception ignored on calling ctypes callback function: <function _ThreadpoolInfo._find_modules_with_dl_iterate_phdr.<locals>.match_module_callback at 0x7f6261d2e700>\n",
      "Traceback (most recent call last):\n",
      "  File \"/home/shivam_singh/anaconda3/lib/python3.9/site-packages/threadpoolctl.py\", line 400, in match_module_callback\n",
      "    self._make_module_from_path(filepath)\n",
      "  File \"/home/shivam_singh/anaconda3/lib/python3.9/site-packages/threadpoolctl.py\", line 515, in _make_module_from_path\n",
      "    module = module_class(filepath, prefix, user_api, internal_api)\n",
      "  File \"/home/shivam_singh/anaconda3/lib/python3.9/site-packages/threadpoolctl.py\", line 606, in __init__\n",
      "    self.version = self.get_version()\n",
      "  File \"/home/shivam_singh/anaconda3/lib/python3.9/site-packages/threadpoolctl.py\", line 646, in get_version\n",
      "    config = get_config().split()\n",
      "AttributeError: 'NoneType' object has no attribute 'split'\n",
      "Exception ignored on calling ctypes callback function: <function _ThreadpoolInfo._find_modules_with_dl_iterate_phdr.<locals>.match_module_callback at 0x7f6261d2e700>\n",
      "Traceback (most recent call last):\n",
      "  File \"/home/shivam_singh/anaconda3/lib/python3.9/site-packages/threadpoolctl.py\", line 400, in match_module_callback\n",
      "    self._make_module_from_path(filepath)\n",
      "  File \"/home/shivam_singh/anaconda3/lib/python3.9/site-packages/threadpoolctl.py\", line 515, in _make_module_from_path\n",
      "    module = module_class(filepath, prefix, user_api, internal_api)\n",
      "  File \"/home/shivam_singh/anaconda3/lib/python3.9/site-packages/threadpoolctl.py\", line 606, in __init__\n",
      "    self.version = self.get_version()\n",
      "  File \"/home/shivam_singh/anaconda3/lib/python3.9/site-packages/threadpoolctl.py\", line 646, in get_version\n",
      "    config = get_config().split()\n",
      "AttributeError: 'NoneType' object has no attribute 'split'\n",
      "Exception ignored on calling ctypes callback function: <function _ThreadpoolInfo._find_modules_with_dl_iterate_phdr.<locals>.match_module_callback at 0x7f6246bc8940>\n",
      "Traceback (most recent call last):\n",
      "  File \"/home/shivam_singh/anaconda3/lib/python3.9/site-packages/threadpoolctl.py\", line 400, in match_module_callback\n",
      "    self._make_module_from_path(filepath)\n",
      "  File \"/home/shivam_singh/anaconda3/lib/python3.9/site-packages/threadpoolctl.py\", line 515, in _make_module_from_path\n",
      "    module = module_class(filepath, prefix, user_api, internal_api)\n",
      "  File \"/home/shivam_singh/anaconda3/lib/python3.9/site-packages/threadpoolctl.py\", line 606, in __init__\n",
      "    self.version = self.get_version()\n",
      "  File \"/home/shivam_singh/anaconda3/lib/python3.9/site-packages/threadpoolctl.py\", line 646, in get_version\n",
      "    config = get_config().split()\n",
      "AttributeError: 'NoneType' object has no attribute 'split'\n",
      "Exception ignored on calling ctypes callback function: <function _ThreadpoolInfo._find_modules_with_dl_iterate_phdr.<locals>.match_module_callback at 0x7f6261d2e700>\n",
      "Traceback (most recent call last):\n",
      "  File \"/home/shivam_singh/anaconda3/lib/python3.9/site-packages/threadpoolctl.py\", line 400, in match_module_callback\n",
      "    self._make_module_from_path(filepath)\n",
      "  File \"/home/shivam_singh/anaconda3/lib/python3.9/site-packages/threadpoolctl.py\", line 515, in _make_module_from_path\n",
      "    module = module_class(filepath, prefix, user_api, internal_api)\n",
      "  File \"/home/shivam_singh/anaconda3/lib/python3.9/site-packages/threadpoolctl.py\", line 606, in __init__\n",
      "    self.version = self.get_version()\n",
      "  File \"/home/shivam_singh/anaconda3/lib/python3.9/site-packages/threadpoolctl.py\", line 646, in get_version\n",
      "    config = get_config().split()\n",
      "AttributeError: 'NoneType' object has no attribute 'split'\n",
      "Exception ignored on calling ctypes callback function: <function _ThreadpoolInfo._find_modules_with_dl_iterate_phdr.<locals>.match_module_callback at 0x7f6246bc8940>\n",
      "Traceback (most recent call last):\n",
      "  File \"/home/shivam_singh/anaconda3/lib/python3.9/site-packages/threadpoolctl.py\", line 400, in match_module_callback\n",
      "    self._make_module_from_path(filepath)\n",
      "  File \"/home/shivam_singh/anaconda3/lib/python3.9/site-packages/threadpoolctl.py\", line 515, in _make_module_from_path\n",
      "    module = module_class(filepath, prefix, user_api, internal_api)\n",
      "  File \"/home/shivam_singh/anaconda3/lib/python3.9/site-packages/threadpoolctl.py\", line 606, in __init__\n",
      "    self.version = self.get_version()\n",
      "  File \"/home/shivam_singh/anaconda3/lib/python3.9/site-packages/threadpoolctl.py\", line 646, in get_version\n",
      "    config = get_config().split()\n",
      "AttributeError: 'NoneType' object has no attribute 'split'\n",
      "Exception ignored on calling ctypes callback function: <function _ThreadpoolInfo._find_modules_with_dl_iterate_phdr.<locals>.match_module_callback at 0x7f6261d2e700>\n",
      "Traceback (most recent call last):\n",
      "  File \"/home/shivam_singh/anaconda3/lib/python3.9/site-packages/threadpoolctl.py\", line 400, in match_module_callback\n",
      "    self._make_module_from_path(filepath)\n",
      "  File \"/home/shivam_singh/anaconda3/lib/python3.9/site-packages/threadpoolctl.py\", line 515, in _make_module_from_path\n",
      "    module = module_class(filepath, prefix, user_api, internal_api)\n",
      "  File \"/home/shivam_singh/anaconda3/lib/python3.9/site-packages/threadpoolctl.py\", line 606, in __init__\n",
      "    self.version = self.get_version()\n",
      "  File \"/home/shivam_singh/anaconda3/lib/python3.9/site-packages/threadpoolctl.py\", line 646, in get_version\n",
      "    config = get_config().split()\n",
      "AttributeError: 'NoneType' object has no attribute 'split'\n",
      "Exception ignored on calling ctypes callback function: <function _ThreadpoolInfo._find_modules_with_dl_iterate_phdr.<locals>.match_module_callback at 0x7f6246bc8940>\n",
      "Traceback (most recent call last):\n",
      "  File \"/home/shivam_singh/anaconda3/lib/python3.9/site-packages/threadpoolctl.py\", line 400, in match_module_callback\n",
      "    self._make_module_from_path(filepath)\n",
      "  File \"/home/shivam_singh/anaconda3/lib/python3.9/site-packages/threadpoolctl.py\", line 515, in _make_module_from_path\n",
      "    module = module_class(filepath, prefix, user_api, internal_api)\n",
      "  File \"/home/shivam_singh/anaconda3/lib/python3.9/site-packages/threadpoolctl.py\", line 606, in __init__\n",
      "    self.version = self.get_version()\n",
      "  File \"/home/shivam_singh/anaconda3/lib/python3.9/site-packages/threadpoolctl.py\", line 646, in get_version\n",
      "    config = get_config().split()\n",
      "AttributeError: 'NoneType' object has no attribute 'split'\n",
      "Exception ignored on calling ctypes callback function: <function _ThreadpoolInfo._find_modules_with_dl_iterate_phdr.<locals>.match_module_callback at 0x7f6261d2e700>\n",
      "Traceback (most recent call last):\n",
      "  File \"/home/shivam_singh/anaconda3/lib/python3.9/site-packages/threadpoolctl.py\", line 400, in match_module_callback\n",
      "    self._make_module_from_path(filepath)\n",
      "  File \"/home/shivam_singh/anaconda3/lib/python3.9/site-packages/threadpoolctl.py\", line 515, in _make_module_from_path\n",
      "    module = module_class(filepath, prefix, user_api, internal_api)\n",
      "  File \"/home/shivam_singh/anaconda3/lib/python3.9/site-packages/threadpoolctl.py\", line 606, in __init__\n",
      "    self.version = self.get_version()\n",
      "  File \"/home/shivam_singh/anaconda3/lib/python3.9/site-packages/threadpoolctl.py\", line 646, in get_version\n",
      "    config = get_config().split()\n",
      "AttributeError: 'NoneType' object has no attribute 'split'\n",
      "Exception ignored on calling ctypes callback function: <function _ThreadpoolInfo._find_modules_with_dl_iterate_phdr.<locals>.match_module_callback at 0x7f6246bc8940>\n",
      "Traceback (most recent call last):\n",
      "  File \"/home/shivam_singh/anaconda3/lib/python3.9/site-packages/threadpoolctl.py\", line 400, in match_module_callback\n",
      "    self._make_module_from_path(filepath)\n",
      "  File \"/home/shivam_singh/anaconda3/lib/python3.9/site-packages/threadpoolctl.py\", line 515, in _make_module_from_path\n",
      "    module = module_class(filepath, prefix, user_api, internal_api)\n",
      "  File \"/home/shivam_singh/anaconda3/lib/python3.9/site-packages/threadpoolctl.py\", line 606, in __init__\n",
      "    self.version = self.get_version()\n",
      "  File \"/home/shivam_singh/anaconda3/lib/python3.9/site-packages/threadpoolctl.py\", line 646, in get_version\n",
      "    config = get_config().split()\n",
      "AttributeError: 'NoneType' object has no attribute 'split'\n",
      "Exception ignored on calling ctypes callback function: <function _ThreadpoolInfo._find_modules_with_dl_iterate_phdr.<locals>.match_module_callback at 0x7f6261d2e700>\n",
      "Traceback (most recent call last):\n",
      "  File \"/home/shivam_singh/anaconda3/lib/python3.9/site-packages/threadpoolctl.py\", line 400, in match_module_callback\n",
      "    self._make_module_from_path(filepath)\n",
      "  File \"/home/shivam_singh/anaconda3/lib/python3.9/site-packages/threadpoolctl.py\", line 515, in _make_module_from_path\n",
      "    module = module_class(filepath, prefix, user_api, internal_api)\n",
      "  File \"/home/shivam_singh/anaconda3/lib/python3.9/site-packages/threadpoolctl.py\", line 606, in __init__\n",
      "    self.version = self.get_version()\n",
      "  File \"/home/shivam_singh/anaconda3/lib/python3.9/site-packages/threadpoolctl.py\", line 646, in get_version\n",
      "    config = get_config().split()\n",
      "AttributeError: 'NoneType' object has no attribute 'split'\n"
     ]
    },
    {
     "name": "stderr",
     "output_type": "stream",
     "text": [
      "Exception ignored on calling ctypes callback function: <function _ThreadpoolInfo._find_modules_with_dl_iterate_phdr.<locals>.match_module_callback at 0x7f6246bc8940>\n",
      "Traceback (most recent call last):\n",
      "  File \"/home/shivam_singh/anaconda3/lib/python3.9/site-packages/threadpoolctl.py\", line 400, in match_module_callback\n",
      "    self._make_module_from_path(filepath)\n",
      "  File \"/home/shivam_singh/anaconda3/lib/python3.9/site-packages/threadpoolctl.py\", line 515, in _make_module_from_path\n",
      "    module = module_class(filepath, prefix, user_api, internal_api)\n",
      "  File \"/home/shivam_singh/anaconda3/lib/python3.9/site-packages/threadpoolctl.py\", line 606, in __init__\n",
      "    self.version = self.get_version()\n",
      "  File \"/home/shivam_singh/anaconda3/lib/python3.9/site-packages/threadpoolctl.py\", line 646, in get_version\n",
      "    config = get_config().split()\n",
      "AttributeError: 'NoneType' object has no attribute 'split'\n",
      "Exception ignored on calling ctypes callback function: <function _ThreadpoolInfo._find_modules_with_dl_iterate_phdr.<locals>.match_module_callback at 0x7f6261d2e700>\n",
      "Traceback (most recent call last):\n",
      "  File \"/home/shivam_singh/anaconda3/lib/python3.9/site-packages/threadpoolctl.py\", line 400, in match_module_callback\n",
      "    self._make_module_from_path(filepath)\n",
      "  File \"/home/shivam_singh/anaconda3/lib/python3.9/site-packages/threadpoolctl.py\", line 515, in _make_module_from_path\n",
      "    module = module_class(filepath, prefix, user_api, internal_api)\n",
      "  File \"/home/shivam_singh/anaconda3/lib/python3.9/site-packages/threadpoolctl.py\", line 606, in __init__\n",
      "    self.version = self.get_version()\n",
      "  File \"/home/shivam_singh/anaconda3/lib/python3.9/site-packages/threadpoolctl.py\", line 646, in get_version\n",
      "    config = get_config().split()\n",
      "AttributeError: 'NoneType' object has no attribute 'split'\n",
      "Exception ignored on calling ctypes callback function: <function _ThreadpoolInfo._find_modules_with_dl_iterate_phdr.<locals>.match_module_callback at 0x7f6246bc8940>\n",
      "Traceback (most recent call last):\n",
      "  File \"/home/shivam_singh/anaconda3/lib/python3.9/site-packages/threadpoolctl.py\", line 400, in match_module_callback\n",
      "    self._make_module_from_path(filepath)\n",
      "  File \"/home/shivam_singh/anaconda3/lib/python3.9/site-packages/threadpoolctl.py\", line 515, in _make_module_from_path\n",
      "    module = module_class(filepath, prefix, user_api, internal_api)\n",
      "  File \"/home/shivam_singh/anaconda3/lib/python3.9/site-packages/threadpoolctl.py\", line 606, in __init__\n",
      "    self.version = self.get_version()\n",
      "  File \"/home/shivam_singh/anaconda3/lib/python3.9/site-packages/threadpoolctl.py\", line 646, in get_version\n",
      "    config = get_config().split()\n",
      "AttributeError: 'NoneType' object has no attribute 'split'\n",
      "Exception ignored on calling ctypes callback function: <function _ThreadpoolInfo._find_modules_with_dl_iterate_phdr.<locals>.match_module_callback at 0x7f6261d2e700>\n",
      "Traceback (most recent call last):\n",
      "  File \"/home/shivam_singh/anaconda3/lib/python3.9/site-packages/threadpoolctl.py\", line 400, in match_module_callback\n",
      "    self._make_module_from_path(filepath)\n",
      "  File \"/home/shivam_singh/anaconda3/lib/python3.9/site-packages/threadpoolctl.py\", line 515, in _make_module_from_path\n",
      "    module = module_class(filepath, prefix, user_api, internal_api)\n",
      "  File \"/home/shivam_singh/anaconda3/lib/python3.9/site-packages/threadpoolctl.py\", line 606, in __init__\n",
      "    self.version = self.get_version()\n",
      "  File \"/home/shivam_singh/anaconda3/lib/python3.9/site-packages/threadpoolctl.py\", line 646, in get_version\n",
      "    config = get_config().split()\n",
      "AttributeError: 'NoneType' object has no attribute 'split'\n",
      "Exception ignored on calling ctypes callback function: <function _ThreadpoolInfo._find_modules_with_dl_iterate_phdr.<locals>.match_module_callback at 0x7f6246bc8940>\n",
      "Traceback (most recent call last):\n",
      "  File \"/home/shivam_singh/anaconda3/lib/python3.9/site-packages/threadpoolctl.py\", line 400, in match_module_callback\n",
      "    self._make_module_from_path(filepath)\n",
      "  File \"/home/shivam_singh/anaconda3/lib/python3.9/site-packages/threadpoolctl.py\", line 515, in _make_module_from_path\n",
      "    module = module_class(filepath, prefix, user_api, internal_api)\n",
      "  File \"/home/shivam_singh/anaconda3/lib/python3.9/site-packages/threadpoolctl.py\", line 606, in __init__\n",
      "    self.version = self.get_version()\n",
      "  File \"/home/shivam_singh/anaconda3/lib/python3.9/site-packages/threadpoolctl.py\", line 646, in get_version\n",
      "    config = get_config().split()\n",
      "AttributeError: 'NoneType' object has no attribute 'split'\n",
      "Exception ignored on calling ctypes callback function: <function _ThreadpoolInfo._find_modules_with_dl_iterate_phdr.<locals>.match_module_callback at 0x7f6261d2e700>\n",
      "Traceback (most recent call last):\n",
      "  File \"/home/shivam_singh/anaconda3/lib/python3.9/site-packages/threadpoolctl.py\", line 400, in match_module_callback\n",
      "    self._make_module_from_path(filepath)\n",
      "  File \"/home/shivam_singh/anaconda3/lib/python3.9/site-packages/threadpoolctl.py\", line 515, in _make_module_from_path\n",
      "    module = module_class(filepath, prefix, user_api, internal_api)\n",
      "  File \"/home/shivam_singh/anaconda3/lib/python3.9/site-packages/threadpoolctl.py\", line 606, in __init__\n",
      "    self.version = self.get_version()\n",
      "  File \"/home/shivam_singh/anaconda3/lib/python3.9/site-packages/threadpoolctl.py\", line 646, in get_version\n",
      "    config = get_config().split()\n",
      "AttributeError: 'NoneType' object has no attribute 'split'\n",
      "Exception ignored on calling ctypes callback function: <function _ThreadpoolInfo._find_modules_with_dl_iterate_phdr.<locals>.match_module_callback at 0x7f6246bc8940>\n",
      "Traceback (most recent call last):\n",
      "  File \"/home/shivam_singh/anaconda3/lib/python3.9/site-packages/threadpoolctl.py\", line 400, in match_module_callback\n",
      "    self._make_module_from_path(filepath)\n",
      "  File \"/home/shivam_singh/anaconda3/lib/python3.9/site-packages/threadpoolctl.py\", line 515, in _make_module_from_path\n",
      "    module = module_class(filepath, prefix, user_api, internal_api)\n",
      "  File \"/home/shivam_singh/anaconda3/lib/python3.9/site-packages/threadpoolctl.py\", line 606, in __init__\n",
      "    self.version = self.get_version()\n",
      "  File \"/home/shivam_singh/anaconda3/lib/python3.9/site-packages/threadpoolctl.py\", line 646, in get_version\n",
      "    config = get_config().split()\n",
      "AttributeError: 'NoneType' object has no attribute 'split'\n",
      "Exception ignored on calling ctypes callback function: <function _ThreadpoolInfo._find_modules_with_dl_iterate_phdr.<locals>.match_module_callback at 0x7f6261d2e700>\n",
      "Traceback (most recent call last):\n",
      "  File \"/home/shivam_singh/anaconda3/lib/python3.9/site-packages/threadpoolctl.py\", line 400, in match_module_callback\n",
      "    self._make_module_from_path(filepath)\n",
      "  File \"/home/shivam_singh/anaconda3/lib/python3.9/site-packages/threadpoolctl.py\", line 515, in _make_module_from_path\n",
      "    module = module_class(filepath, prefix, user_api, internal_api)\n",
      "  File \"/home/shivam_singh/anaconda3/lib/python3.9/site-packages/threadpoolctl.py\", line 606, in __init__\n",
      "    self.version = self.get_version()\n",
      "  File \"/home/shivam_singh/anaconda3/lib/python3.9/site-packages/threadpoolctl.py\", line 646, in get_version\n",
      "    config = get_config().split()\n",
      "AttributeError: 'NoneType' object has no attribute 'split'\n",
      "Exception ignored on calling ctypes callback function: <function _ThreadpoolInfo._find_modules_with_dl_iterate_phdr.<locals>.match_module_callback at 0x7f6246bc8940>\n",
      "Traceback (most recent call last):\n",
      "  File \"/home/shivam_singh/anaconda3/lib/python3.9/site-packages/threadpoolctl.py\", line 400, in match_module_callback\n",
      "    self._make_module_from_path(filepath)\n",
      "  File \"/home/shivam_singh/anaconda3/lib/python3.9/site-packages/threadpoolctl.py\", line 515, in _make_module_from_path\n",
      "    module = module_class(filepath, prefix, user_api, internal_api)\n",
      "  File \"/home/shivam_singh/anaconda3/lib/python3.9/site-packages/threadpoolctl.py\", line 606, in __init__\n",
      "    self.version = self.get_version()\n",
      "  File \"/home/shivam_singh/anaconda3/lib/python3.9/site-packages/threadpoolctl.py\", line 646, in get_version\n",
      "    config = get_config().split()\n",
      "AttributeError: 'NoneType' object has no attribute 'split'\n",
      "Exception ignored on calling ctypes callback function: <function _ThreadpoolInfo._find_modules_with_dl_iterate_phdr.<locals>.match_module_callback at 0x7f6261d2e700>\n",
      "Traceback (most recent call last):\n",
      "  File \"/home/shivam_singh/anaconda3/lib/python3.9/site-packages/threadpoolctl.py\", line 400, in match_module_callback\n",
      "    self._make_module_from_path(filepath)\n",
      "  File \"/home/shivam_singh/anaconda3/lib/python3.9/site-packages/threadpoolctl.py\", line 515, in _make_module_from_path\n",
      "    module = module_class(filepath, prefix, user_api, internal_api)\n",
      "  File \"/home/shivam_singh/anaconda3/lib/python3.9/site-packages/threadpoolctl.py\", line 606, in __init__\n",
      "    self.version = self.get_version()\n",
      "  File \"/home/shivam_singh/anaconda3/lib/python3.9/site-packages/threadpoolctl.py\", line 646, in get_version\n",
      "    config = get_config().split()\n",
      "AttributeError: 'NoneType' object has no attribute 'split'\n"
     ]
    },
    {
     "name": "stderr",
     "output_type": "stream",
     "text": [
      "Exception ignored on calling ctypes callback function: <function _ThreadpoolInfo._find_modules_with_dl_iterate_phdr.<locals>.match_module_callback at 0x7f6246bc8940>\n",
      "Traceback (most recent call last):\n",
      "  File \"/home/shivam_singh/anaconda3/lib/python3.9/site-packages/threadpoolctl.py\", line 400, in match_module_callback\n",
      "    self._make_module_from_path(filepath)\n",
      "  File \"/home/shivam_singh/anaconda3/lib/python3.9/site-packages/threadpoolctl.py\", line 515, in _make_module_from_path\n",
      "    module = module_class(filepath, prefix, user_api, internal_api)\n",
      "  File \"/home/shivam_singh/anaconda3/lib/python3.9/site-packages/threadpoolctl.py\", line 606, in __init__\n",
      "    self.version = self.get_version()\n",
      "  File \"/home/shivam_singh/anaconda3/lib/python3.9/site-packages/threadpoolctl.py\", line 646, in get_version\n",
      "    config = get_config().split()\n",
      "AttributeError: 'NoneType' object has no attribute 'split'\n",
      "Exception ignored on calling ctypes callback function: <function _ThreadpoolInfo._find_modules_with_dl_iterate_phdr.<locals>.match_module_callback at 0x7f6246bc8940>\n",
      "Traceback (most recent call last):\n",
      "  File \"/home/shivam_singh/anaconda3/lib/python3.9/site-packages/threadpoolctl.py\", line 400, in match_module_callback\n",
      "    self._make_module_from_path(filepath)\n",
      "  File \"/home/shivam_singh/anaconda3/lib/python3.9/site-packages/threadpoolctl.py\", line 515, in _make_module_from_path\n",
      "    module = module_class(filepath, prefix, user_api, internal_api)\n",
      "  File \"/home/shivam_singh/anaconda3/lib/python3.9/site-packages/threadpoolctl.py\", line 606, in __init__\n",
      "    self.version = self.get_version()\n",
      "  File \"/home/shivam_singh/anaconda3/lib/python3.9/site-packages/threadpoolctl.py\", line 646, in get_version\n",
      "    config = get_config().split()\n",
      "AttributeError: 'NoneType' object has no attribute 'split'\n",
      "Exception ignored on calling ctypes callback function: <function _ThreadpoolInfo._find_modules_with_dl_iterate_phdr.<locals>.match_module_callback at 0x7f6246bc8940>\n",
      "Traceback (most recent call last):\n",
      "  File \"/home/shivam_singh/anaconda3/lib/python3.9/site-packages/threadpoolctl.py\", line 400, in match_module_callback\n",
      "    self._make_module_from_path(filepath)\n",
      "  File \"/home/shivam_singh/anaconda3/lib/python3.9/site-packages/threadpoolctl.py\", line 515, in _make_module_from_path\n",
      "    module = module_class(filepath, prefix, user_api, internal_api)\n",
      "  File \"/home/shivam_singh/anaconda3/lib/python3.9/site-packages/threadpoolctl.py\", line 606, in __init__\n",
      "    self.version = self.get_version()\n",
      "  File \"/home/shivam_singh/anaconda3/lib/python3.9/site-packages/threadpoolctl.py\", line 646, in get_version\n",
      "    config = get_config().split()\n",
      "AttributeError: 'NoneType' object has no attribute 'split'\n",
      "Exception ignored on calling ctypes callback function: <function _ThreadpoolInfo._find_modules_with_dl_iterate_phdr.<locals>.match_module_callback at 0x7f6261d2e700>\n",
      "Traceback (most recent call last):\n",
      "  File \"/home/shivam_singh/anaconda3/lib/python3.9/site-packages/threadpoolctl.py\", line 400, in match_module_callback\n",
      "    self._make_module_from_path(filepath)\n",
      "  File \"/home/shivam_singh/anaconda3/lib/python3.9/site-packages/threadpoolctl.py\", line 515, in _make_module_from_path\n",
      "    module = module_class(filepath, prefix, user_api, internal_api)\n",
      "  File \"/home/shivam_singh/anaconda3/lib/python3.9/site-packages/threadpoolctl.py\", line 606, in __init__\n",
      "    self.version = self.get_version()\n",
      "  File \"/home/shivam_singh/anaconda3/lib/python3.9/site-packages/threadpoolctl.py\", line 646, in get_version\n",
      "    config = get_config().split()\n",
      "AttributeError: 'NoneType' object has no attribute 'split'\n"
     ]
    },
    {
     "name": "stdout",
     "output_type": "stream",
     "text": [
      "Augmented training data shape: (325, 635)\n",
      "Augmented training labels shape: (325,)\n"
     ]
    }
   ],
   "source": [
    "\n",
    "# Instantiate SMOTE\n",
    "smote = SMOTE(sampling_strategy='auto',k_neighbors=4)\n",
    "\n",
    "# Apply SMOTE to the training data\n",
    "X_train_augmented, y_train_augmented = smote.fit_resample(X_train_vactorised, y_train)\n",
    "\n",
    "# Verify the new shape of the augmented data\n",
    "print(\"Augmented training data shape:\", X_train_augmented.shape)\n",
    "print(\"Augmented training labels shape:\", y_train_augmented.shape)"
   ]
  },
  {
   "cell_type": "code",
   "execution_count": 74,
   "id": "84a8c052",
   "metadata": {},
   "outputs": [
    {
     "name": "stdout",
     "output_type": "stream",
     "text": [
      "accuracy of svm model 0.76\n"
     ]
    }
   ],
   "source": [
    "# Train a Support Vector Machine (SVM) classifier on the training data\n",
    "SVMclassifier = SVC(kernel='linear', C=1, random_state=42)\n",
    "SVMclassifier.fit(X_train_augmented, y_train_augmented)\n",
    "\n",
    "# Predict the categories of the testing data using the trained classifier\n",
    "SVMy_pred = SVMclassifier.predict(X_test_vactorised)\n",
    "\n",
    "# Evaluate the performance of the classifier using the classification report\n",
    "accuracy_svm = accuracy_score(y_test, SVMy_pred)\n",
    "print(\"accuracy of svm model\",accuracy_svm)\n",
    "\n"
   ]
  },
  {
   "cell_type": "markdown",
   "id": "40da2de5",
   "metadata": {},
   "source": [
    " **-------------RandomForest classifier using Data Augmentation by SMOTE Over-Sampling-----------------------------**\n",
    " * hyper perameter such as 'n_estimators','max_depth','min_samples_split' selected using GridSearch for accurate results  implemented with sklearn"
   ]
  },
  {
   "cell_type": "code",
   "execution_count": 76,
   "id": "b94b2d0c",
   "metadata": {},
   "outputs": [
    {
     "data": {
      "text/html": [
       "<style>#sk-container-id-2 {color: black;background-color: white;}#sk-container-id-2 pre{padding: 0;}#sk-container-id-2 div.sk-toggleable {background-color: white;}#sk-container-id-2 label.sk-toggleable__label {cursor: pointer;display: block;width: 100%;margin-bottom: 0;padding: 0.3em;box-sizing: border-box;text-align: center;}#sk-container-id-2 label.sk-toggleable__label-arrow:before {content: \"▸\";float: left;margin-right: 0.25em;color: #696969;}#sk-container-id-2 label.sk-toggleable__label-arrow:hover:before {color: black;}#sk-container-id-2 div.sk-estimator:hover label.sk-toggleable__label-arrow:before {color: black;}#sk-container-id-2 div.sk-toggleable__content {max-height: 0;max-width: 0;overflow: hidden;text-align: left;background-color: #f0f8ff;}#sk-container-id-2 div.sk-toggleable__content pre {margin: 0.2em;color: black;border-radius: 0.25em;background-color: #f0f8ff;}#sk-container-id-2 input.sk-toggleable__control:checked~div.sk-toggleable__content {max-height: 200px;max-width: 100%;overflow: auto;}#sk-container-id-2 input.sk-toggleable__control:checked~label.sk-toggleable__label-arrow:before {content: \"▾\";}#sk-container-id-2 div.sk-estimator input.sk-toggleable__control:checked~label.sk-toggleable__label {background-color: #d4ebff;}#sk-container-id-2 div.sk-label input.sk-toggleable__control:checked~label.sk-toggleable__label {background-color: #d4ebff;}#sk-container-id-2 input.sk-hidden--visually {border: 0;clip: rect(1px 1px 1px 1px);clip: rect(1px, 1px, 1px, 1px);height: 1px;margin: -1px;overflow: hidden;padding: 0;position: absolute;width: 1px;}#sk-container-id-2 div.sk-estimator {font-family: monospace;background-color: #f0f8ff;border: 1px dotted black;border-radius: 0.25em;box-sizing: border-box;margin-bottom: 0.5em;}#sk-container-id-2 div.sk-estimator:hover {background-color: #d4ebff;}#sk-container-id-2 div.sk-parallel-item::after {content: \"\";width: 100%;border-bottom: 1px solid gray;flex-grow: 1;}#sk-container-id-2 div.sk-label:hover label.sk-toggleable__label {background-color: #d4ebff;}#sk-container-id-2 div.sk-serial::before {content: \"\";position: absolute;border-left: 1px solid gray;box-sizing: border-box;top: 0;bottom: 0;left: 50%;z-index: 0;}#sk-container-id-2 div.sk-serial {display: flex;flex-direction: column;align-items: center;background-color: white;padding-right: 0.2em;padding-left: 0.2em;position: relative;}#sk-container-id-2 div.sk-item {position: relative;z-index: 1;}#sk-container-id-2 div.sk-parallel {display: flex;align-items: stretch;justify-content: center;background-color: white;position: relative;}#sk-container-id-2 div.sk-item::before, #sk-container-id-2 div.sk-parallel-item::before {content: \"\";position: absolute;border-left: 1px solid gray;box-sizing: border-box;top: 0;bottom: 0;left: 50%;z-index: -1;}#sk-container-id-2 div.sk-parallel-item {display: flex;flex-direction: column;z-index: 1;position: relative;background-color: white;}#sk-container-id-2 div.sk-parallel-item:first-child::after {align-self: flex-end;width: 50%;}#sk-container-id-2 div.sk-parallel-item:last-child::after {align-self: flex-start;width: 50%;}#sk-container-id-2 div.sk-parallel-item:only-child::after {width: 0;}#sk-container-id-2 div.sk-dashed-wrapped {border: 1px dashed gray;margin: 0 0.4em 0.5em 0.4em;box-sizing: border-box;padding-bottom: 0.4em;background-color: white;}#sk-container-id-2 div.sk-label label {font-family: monospace;font-weight: bold;display: inline-block;line-height: 1.2em;}#sk-container-id-2 div.sk-label-container {text-align: center;}#sk-container-id-2 div.sk-container {/* jupyter's `normalize.less` sets `[hidden] { display: none; }` but bootstrap.min.css set `[hidden] { display: none !important; }` so we also need the `!important` here to be able to override the default hidden behavior on the sphinx rendered scikit-learn.org. See: https://github.com/scikit-learn/scikit-learn/issues/21755 */display: inline-block !important;position: relative;}#sk-container-id-2 div.sk-text-repr-fallback {display: none;}</style><div id=\"sk-container-id-2\" class=\"sk-top-container\"><div class=\"sk-text-repr-fallback\"><pre>GridSearchCV(cv=5, estimator=RandomForestClassifier(random_state=42),\n",
       "             param_grid={&#x27;max_depth&#x27;: [None, 5, 10],\n",
       "                         &#x27;min_samples_split&#x27;: [2, 5, 10],\n",
       "                         &#x27;n_estimators&#x27;: [100, 200, 300]})</pre><b>In a Jupyter environment, please rerun this cell to show the HTML representation or trust the notebook. <br />On GitHub, the HTML representation is unable to render, please try loading this page with nbviewer.org.</b></div><div class=\"sk-container\" hidden><div class=\"sk-item sk-dashed-wrapped\"><div class=\"sk-label-container\"><div class=\"sk-label sk-toggleable\"><input class=\"sk-toggleable__control sk-hidden--visually\" id=\"sk-estimator-id-4\" type=\"checkbox\" ><label for=\"sk-estimator-id-4\" class=\"sk-toggleable__label sk-toggleable__label-arrow\">GridSearchCV</label><div class=\"sk-toggleable__content\"><pre>GridSearchCV(cv=5, estimator=RandomForestClassifier(random_state=42),\n",
       "             param_grid={&#x27;max_depth&#x27;: [None, 5, 10],\n",
       "                         &#x27;min_samples_split&#x27;: [2, 5, 10],\n",
       "                         &#x27;n_estimators&#x27;: [100, 200, 300]})</pre></div></div></div><div class=\"sk-parallel\"><div class=\"sk-parallel-item\"><div class=\"sk-item\"><div class=\"sk-label-container\"><div class=\"sk-label sk-toggleable\"><input class=\"sk-toggleable__control sk-hidden--visually\" id=\"sk-estimator-id-5\" type=\"checkbox\" ><label for=\"sk-estimator-id-5\" class=\"sk-toggleable__label sk-toggleable__label-arrow\">estimator: RandomForestClassifier</label><div class=\"sk-toggleable__content\"><pre>RandomForestClassifier(random_state=42)</pre></div></div></div><div class=\"sk-serial\"><div class=\"sk-item\"><div class=\"sk-estimator sk-toggleable\"><input class=\"sk-toggleable__control sk-hidden--visually\" id=\"sk-estimator-id-6\" type=\"checkbox\" ><label for=\"sk-estimator-id-6\" class=\"sk-toggleable__label sk-toggleable__label-arrow\">RandomForestClassifier</label><div class=\"sk-toggleable__content\"><pre>RandomForestClassifier(random_state=42)</pre></div></div></div></div></div></div></div></div></div></div>"
      ],
      "text/plain": [
       "GridSearchCV(cv=5, estimator=RandomForestClassifier(random_state=42),\n",
       "             param_grid={'max_depth': [None, 5, 10],\n",
       "                         'min_samples_split': [2, 5, 10],\n",
       "                         'n_estimators': [100, 200, 300]})"
      ]
     },
     "execution_count": 76,
     "metadata": {},
     "output_type": "execute_result"
    }
   ],
   "source": [
    "param_grid={'n_estimators':[100,200,300],\n",
    "           'max_depth':[None,5,10],\n",
    "           'min_samples_split':[2,5,10]}\n",
    "from sklearn.ensemble import RandomForestClassifier\n",
    "from sklearn.model_selection import GridSearchCV\n",
    "#Creating the random forest classiifer model\n",
    "model=RandomForestClassifier(random_state=42)\n",
    "grid_search=GridSearchCV(model,param_grid, cv=5)\n",
    "grid_search.fit(X_train_augmented, y_train_augmented)"
   ]
  },
  {
   "cell_type": "code",
   "execution_count": 77,
   "id": "8bd8ed07",
   "metadata": {},
   "outputs": [
    {
     "name": "stdout",
     "output_type": "stream",
     "text": [
      "accuracy of RandomForest model 0.8133333333333334\n"
     ]
    }
   ],
   "source": [
    "best_params=grid_search.best_params_\n",
    "best_model=grid_search.best_estimator_\n",
    "best_model.fit(X_train_augmented,y_train_augmented)\n",
    "\n",
    "val_predictions=best_model.predict(X_test_vactorised)\n",
    "accuracy_rm=accuracy_score(y_test, val_predictions)\n",
    "print(\"accuracy of RandomForest model\",accuracy_rm)"
   ]
  },
  {
   "cell_type": "markdown",
   "id": "947e3b5e",
   "metadata": {},
   "source": [
    "# **<center>--------------DecisionTree with Bagging ensemble and AdaBoots ensemble methods----------</center>**"
   ]
  },
  {
   "cell_type": "code",
   "execution_count": 78,
   "id": "a21a8ad3",
   "metadata": {},
   "outputs": [
    {
     "name": "stdout",
     "output_type": "stream",
     "text": [
      "Bagging Accuracy: 0.7866666666666666\n",
      "AdaBoost Accuracy: 0.72\n"
     ]
    }
   ],
   "source": [
    "from sklearn.tree import DecisionTreeClassifier\n",
    "from sklearn.ensemble import BaggingClassifier, AdaBoostClassifier\n",
    "from sklearn.metrics import accuracy_score\n",
    "\n",
    "# Create a base decision tree classifier\n",
    "base_classifier = DecisionTreeClassifier()\n",
    "\n",
    "# Bagging ensemble method\n",
    "bagging_classifier = BaggingClassifier(base_estimator=base_classifier, n_estimators=10, random_state=42)\n",
    "bagging_classifier.fit(X_train_augmented, y_train_augmented)\n",
    "bagging_predictions = bagging_classifier.predict(X_test_vactorised)\n",
    "bagging_accuracy = accuracy_score(y_test, bagging_predictions)\n",
    "print(\"Bagging Accuracy:\", bagging_accuracy)\n",
    "\n",
    "# AdaBoost ensemble method\n",
    "adaboost_classifier = AdaBoostClassifier(base_estimator=base_classifier, n_estimators=10, random_state=42)\n",
    "adaboost_classifier.fit(X_train_augmented, y_train_augmented)\n",
    "adaboost_predictions = adaboost_classifier.predict(X_test_vactorised)\n",
    "adaboost_accuracy = accuracy_score(y_test, adaboost_predictions)\n",
    "print(\"AdaBoost Accuracy:\", adaboost_accuracy)\n"
   ]
  },
  {
   "cell_type": "markdown",
   "id": "34f354dc",
   "metadata": {},
   "source": [
    "**In this step we best tunned hyperperameters  were used and displayed, this tunned model gives the best accuracy**"
   ]
  },
  {
   "cell_type": "code",
   "execution_count": 79,
   "id": "f74c3097",
   "metadata": {},
   "outputs": [
    {
     "name": "stdout",
     "output_type": "stream",
     "text": [
      "Best Random Forest Accuracy: 0.8133333333333334\n",
      "Best Random Forest Parameters: {'max_depth': None, 'max_features': 'auto', 'min_samples_leaf': 1, 'min_samples_split': 2, 'n_estimators': 200}\n"
     ]
    }
   ],
   "source": [
    "from sklearn.ensemble import RandomForestClassifier\n",
    "from sklearn.metrics import accuracy_score\n",
    "from sklearn.model_selection import GridSearchCV\n",
    "\n",
    "# Create a Random Forest classifier\n",
    "random_forest = RandomForestClassifier(random_state=42)\n",
    "\n",
    "# Define the parameter grid for hyperparameter tuning\n",
    "param_grid = {\n",
    "    'n_estimators': [100, 200, 300],  # Number of decision trees in the forest\n",
    "    'max_depth': [None, 5, 10],  # Maximum depth of the trees\n",
    "    'min_samples_split': [2, 5, 10],  # Minimum number of samples required to split an internal node\n",
    "    'min_samples_leaf': [1, 2, 4],  # Minimum number of samples required to be at a leaf node\n",
    "    'max_features': ['auto', 'sqrt', 'log2']  # Number of features to consider when looking for the best split\n",
    "}\n",
    "\n",
    "# Perform grid search with cross-validation\n",
    "grid_search = GridSearchCV(estimator=random_forest, param_grid=param_grid, cv=5)\n",
    "grid_search.fit(X_train_augmented, y_train_augmented)\n",
    "\n",
    "# Get the best model and its performance\n",
    "best_model = grid_search.best_estimator_\n",
    "predictions = best_model.predict(X_test_vactorised)\n",
    "accuracy = accuracy_score(y_test, predictions)\n",
    "print(\"Best Random Forest Accuracy:\", accuracy)\n",
    "print(\"Best Random Forest Parameters:\", grid_search.best_params_)"
   ]
  },
  {
   "cell_type": "code",
   "execution_count": 137,
   "id": "41f59bcb",
   "metadata": {},
   "outputs": [
    {
     "name": "stdout",
     "output_type": "stream",
     "text": [
      "Accuracy: 0.7733333333333333\n"
     ]
    }
   ],
   "source": [
    "from sklearn.ensemble import RandomForestClassifier, VotingClassifier\n",
    "from xgboost import XGBClassifier\n",
    "from lightgbm import LGBMClassifier\n",
    "\n",
    "# Define the base classifiers\n",
    "#rf_classifier = RandomForestClassifier()\n",
    "xgb_classifier = XGBClassifier()\n",
    "lgb_classifier = LGBMClassifier()\n",
    "\n",
    "# Define the ensemble classifier using majority voting\n",
    "ensemble_classifier = VotingClassifier(estimators=[('xgb', xgb_classifier), ('lgb', lgb_classifier)], voting='soft')\n",
    "*\n",
    "accuracy = ensemble_classifier.score(X_test_vactorised, y_test)\n",
    "print(\"Accuracy:\", accuracy)"
   ]
  },
  {
   "cell_type": "markdown",
   "id": "99cfb305",
   "metadata": {},
   "source": [
    "# Conclusion\n",
    "\n",
    "As the dataset was highly balanced but limited data features to further train models we used Data Augmentation by SMOTE Over-sampling methods and this over sampling result in good accuracy for assesing the model(in case of imbalanced dataset f1 score would be prefered\n",
    "\n",
    "the model with highest accuracy is :**Random Forest with TFIDF ,Data Augmentation and for tunning hyperperameters GridSearch methode is used(81.3334% accuracy)** "
   ]
  },
  {
   "cell_type": "markdown",
   "id": "6257c4f6",
   "metadata": {},
   "source": [
    "# Future area of research which can be done with more time and computational power\n",
    "* Building an lstm Model\n",
    "* Building most widely used in field of NLP these days that is BERT which is uses Transformer and run on attention mechanism\n",
    "* Using word 2 vec for word embedding which is better then bag of words and TFIDF\n",
    "* using PCA to reduce dimensions,visulize and use it with KNN model which suffer from Curse of dimensionalty\n",
    "\n",
    "**-----------thank you waiting eagerly to get feedback------------**"
   ]
  },
  {
   "cell_type": "code",
   "execution_count": null,
   "id": "0817c401",
   "metadata": {},
   "outputs": [],
   "source": []
  }
 ],
 "metadata": {
  "kernelspec": {
   "display_name": "Python 3 (ipykernel)",
   "language": "python",
   "name": "python3"
  },
  "language_info": {
   "codemirror_mode": {
    "name": "ipython",
    "version": 3
   },
   "file_extension": ".py",
   "mimetype": "text/x-python",
   "name": "python",
   "nbconvert_exporter": "python",
   "pygments_lexer": "ipython3",
   "version": "3.9.16"
  }
 },
 "nbformat": 4,
 "nbformat_minor": 5
}
